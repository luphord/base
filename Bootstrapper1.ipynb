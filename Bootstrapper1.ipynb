{
 "cells": [
  {
   "cell_type": "code",
   "execution_count": 82,
   "metadata": {},
   "outputs": [],
   "source": [
    "\"\"\" define instruments\"\"\"\n",
    "bootstrapping = {\n",
    "    'fras1': {'tenor': 0.166666666666667, 'rate1': 0.000867049000678135, 'rate2': 0.0016297895938788606},\n",
    "    'fras2L': { 'tenor': 0.5, 'rate1': -0.008796091880796369, 'rate2': 0 },\n",
    "    'fras3': { 'tenor': 0.3333333333333333, 'rate1': -0.0030367305713355276, 'rate2': 0.00433663562121712 },\n",
    "    'tenor': 0.5,\n",
    "    'curve': []\n",
    "     }"
   ]
  },
  {
   "cell_type": "code",
   "execution_count": 83,
   "metadata": {},
   "outputs": [],
   "source": [
    "from math import log,exp\n",
    "def bootstrap(fras1, fras2L, fras3, tenor): \n",
    "    curve = ['','','','','','','','']\n",
    "    \"\"\"Libor 6M_6X12\"\"\"\n",
    "    \"\"\"Libor\"\"\"\n",
    "    df6 = 1 / (1 + tenor * fras2L['rate1'])\n",
    "    T6 = fras2L['tenor']\n",
    "    r6 = -log(df6) / T6\n",
    "    curve[2] = { 'tenor': T6, 'r': r6 }\n",
    "    \"\"\" 12M point via 6X12\"\"\"\n",
    "    T12 = T6 + tenor\n",
    "    r12 = - log(df6 / (1 + tenor * fras2L['rate2'])) / (T12)\n",
    "    curve[5] = { 'tenor': T12, 'r': r12 }\n",
    "    \"\"\"FRA 2X8_8X14\"\"\"\n",
    "    DF2 = exp(-r6 * fras1['tenor'])\n",
    "    T8 = fras1['tenor'] + tenor\n",
    "    DF8 = exp(-(r6 + (T8 - T6) * (r12 - r6) / (T12 - T6)) * T8)\n",
    "\n",
    "    T14 = fras1['tenor'] + 2 * tenor\n",
    "    DF14 = exp(-r12 * T14)\n",
    "\n",
    "    dL28 = 1 + tenor * fras1['rate1']\n",
    "    dL814 = 1 + tenor * fras1['rate2']\n",
    "    en2 = DF2 * dL28 * dL814 + DF8 * dL814 + DF14\n",
    "    den2 = 1 / (dL28 * dL814) + dL28 * dL814 + dL814 / dL28\n",
    "    df2 = en2 / den2\n",
    "    T2 = fras1['tenor']\n",
    "    r2 = -log(df2) / T2\n",
    "    curve[0] = { 'tenor': T2, 'r': r2 }\n",
    "    df8 = df2 / dL28\n",
    "    r8 = -log(df8) / T8\n",
    "    curve[3] = { 'tenor': T8, 'r': r8 }\n",
    "    df14 = df8 / dL814\n",
    "    r14 = -log(df14) / T14\n",
    "    curve[6] = { 'tenor': T14, 'r': r14 }\n",
    "\n",
    "    \"\"\"FRA 4X10_10X16\"\"\"\n",
    "    T4 = fras3['tenor']\n",
    "    DF4 = exp(-T4 * (r2 + (T4 - T2) * (r6 - r2) / (T6 - T2)))\n",
    "\n",
    "    T10 = T4 + tenor\n",
    "    DF10 = exp(-T10 * (r8 + (T10 - T8) * (r12 - r8) / (T12 - T8)))\n",
    "\n",
    "    T16 = T10 + tenor\n",
    "    DF16 = exp(-T16 * r14)\n",
    "\n",
    "    dL410 = 1 + tenor * fras3['rate1']\n",
    "    dL1016 = 1 + tenor * fras3['rate2']\n",
    "\n",
    "    en4 = DF4 * dL410 * dL1016 + DF10 * dL1016 + DF16\n",
    "    den4 = 1 / (dL410 * dL1016) + dL410 * dL1016 + dL1016 / dL410\n",
    "    df4 = en4 / den4\n",
    "    r4 = -log(df4) / T4\n",
    "    curve[1] = { 'tenor': T4, 'r': r4 }\n",
    "\n",
    "    df10 = df4 / dL410\n",
    "    r10 = -log(df10) / T10\n",
    "    curve[4] = { 'tenor': T10, 'r': r10 }\n",
    "\n",
    "    df16 = df10 / dL1016\n",
    "    r16 = -log(df16) / T16\n",
    "    curve[7] = { 'tenor': T16, 'r': r16 }\n",
    "    return curve\n"
   ]
  },
  {
   "cell_type": "code",
   "execution_count": 84,
   "metadata": {},
   "outputs": [],
   "source": [
    "b=bootstrap(bootstrapping['fras1'], bootstrapping['fras2L'], bootstrapping['fras3'], bootstrapping['tenor'])"
   ]
  },
  {
   "cell_type": "code",
   "execution_count": 85,
   "metadata": {},
   "outputs": [
    {
     "data": {
      "image/png": "[encoded data removed]",
      "text/plain": [
       "<Figure size 432x288 with 1 Axes>"
      ]
     },
     "metadata": {
      "needs_background": "light"
     },
     "output_type": "display_data"
    }
   ],
   "source": [
    "import matplotlib.pyplot as plt \n",
    "ts = []\n",
    "rs = []\n",
    "for r in b:\n",
    "    ts.append(r['tenor'])\n",
    "    rs.append(r['r'])\n",
    "plt.plot(ts, rs) \n",
    "plt.show()\n"
   ]
  },
  {
   "cell_type": "code",
   "execution_count": null,
   "metadata": {},
   "outputs": [],
   "source": []
  }
 ],
 "metadata": {
  "kernelspec": {
   "display_name": "Python 2",
   "language": "python",
   "name": "python2"
  },
  "language_info": {
   "codemirror_mode": {
    "name": "ipython",
    "version": 2
   },
   "file_extension": ".py",
   "mimetype": "text/x-python",
   "name": "python",
   "nbconvert_exporter": "python",
   "pygments_lexer": "ipython2",
   "version": "2.7.16"
  }
 },
 "nbformat": 4,
 "nbformat_minor": 2
}
